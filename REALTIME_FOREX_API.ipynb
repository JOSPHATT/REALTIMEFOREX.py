{
  "nbformat": 4,
  "nbformat_minor": 0,
  "metadata": {
    "colab": {
      "provenance": [],
      "mount_file_id": "1JsG7VVb80TxI4L0eB26p_XXZzBrgmpXt",
      "authorship_tag": "ABX9TyNtx54uBFsNppTJaGMJMbHt",
      "include_colab_link": true
    },
    "kernelspec": {
      "name": "python3",
      "display_name": "Python 3"
    },
    "language_info": {
      "name": "python"
    }
  },
  "cells": [
    {
      "cell_type": "markdown",
      "metadata": {
        "id": "view-in-github",
        "colab_type": "text"
      },
      "source": [
        "<a href=\"https://colab.research.google.com/github/JOSPHATT/REALTIMEFOREX.py/blob/main/REALTIME_FOREX_API.ipynb\" target=\"_parent\"><img src=\"https://colab.research.google.com/assets/colab-badge.svg\" alt=\"Open In Colab\"/></a>"
      ]
    },
    {
      "cell_type": "code",
      "source": [
        "github_url='https://raw.githubusercontent.com/JOSPHATT/REALTIMEFOREX.py/main/realtimeforex.txt'\n",
        "import requests\n",
        "def data_gen(url):\n",
        "    r = requests.get(url)\n",
        "    data = r.text\n",
        "    return data\n",
        "Forex_data=data_gen(github_url)\n",
        "last_char=len(Forex_data)\n",
        "#print(Forex_data)\n",
        "with open(\"myfile.txt\", \"w\") as fp:\n",
        "    fp.writelines(Forex_data)\n",
        "import json\n",
        "with open('myfile.txt') as f:\n",
        "    content_list = [line.rstrip() for line in f]\n",
        "FOREX_DATA={}\n",
        "forex_data=[j.replace(\"'\",'\"') for j in content_list]\n",
        "#print(forex_data)\n",
        "C=0\n",
        "for data in forex_data:  \n",
        "    g=json.loads(data)\n",
        "    FOREX_DATA[C]=g\n",
        "    C=C+1\n",
        "pairs=[['AUD','JPY'],['AUD','NZD'],['AUD','USD'],['CAD','JPY'],['EUR','JPY'],['EUR','USD'],['GBP','JPY'],['USD','JPY']]\n",
        "n_pairs=[pair[0]+pair[1] for pair in pairs]\n",
        "#print(n_pairs)\n",
        "Forex_dataframe={}\n",
        "for v in FOREX_DATA.values():\n",
        "    for p in n_pairs:\n",
        "        if p not in Forex_dataframe.keys():\n",
        "            Forex_dataframe[p]=[v[p]]\n",
        "        else:\n",
        "            Forex_dataframe[p].append(v[p])\n",
        "\n",
        "#load data into a DataFrame object:\n",
        "import pandas as pd\n",
        "df = pd.DataFrame(Forex_dataframe)\n",
        "\n",
        "#currency pairs as rows\n",
        "DataFrame=df.T\n",
        "DataFrame.dtypes\n",
        "DataFrame.info()\n",
        "\n",
        "\n",
        "import pandas as pd\n",
        "import matplotlib.pyplot as plt\n",
        "from matplotlib.ticker import FuncFormatter\n",
        "\n",
        "Plot_styles=plt.style.available\n",
        "\n",
        "\n",
        "\n",
        "#import time\n",
        "#for style in Plot_styles:    \n",
        "#plt.style.use(Plot_styles[7])\n",
        "\n",
        "df.plot(kind='line', subplots=True)"
      ],
      "metadata": {
        "id": "OLjt4lCQczUx"
      },
      "execution_count": null,
      "outputs": []
    },
    {
      "cell_type": "code",
      "source": [
        "Moving_Average=df.rolling(window=len(df), min_periods=1).mean()\n",
        "\n",
        "def add_averages(cur_pair):\n",
        "    global df    \n",
        "    myStr=cur_pair\n",
        "    myVars = vars()\n",
        "    myVars.__setitem__(myStr, pd.DataFrame())\n",
        "    myVars['MA']=Moving_Average[myStr]\n",
        "    myVars['Prices']=df[myStr]\n",
        "    myVars['EMA_0.1'] = df[myStr].ewm(alpha=0.1, adjust=False).mean()\n",
        "    return myVars\n",
        "def add_averages2(cur_pair):\n",
        "    PAIR=add_averages(cur_pair)\n",
        "    #print(type(USDJPY))\n",
        "    N_PAIR=pd.DataFrame(PAIR['MA'])\n",
        "    N_PAIR['Prices']=pd.DataFrame(PAIR['Prices'])\n",
        "    #N_PAIR2=del(N_PAIR2.index())\n",
        "    N_PAIR['EMA_0.1']=pd.DataFrame(PAIR['EMA_0.1'])\n",
        "    #N_PAIR3=del(N_PAIR3.index())\n",
        "    #N_PAIR.merge(N_PAIR2, how='right')\n",
        "    #N_PAIR.merge(N_PAIR3, how='right')\n",
        "    N_PAIR.columns=['MA','Prices','EMA_0.1']\n",
        "    return N_PAIR\n",
        "for i in n_pairs:\n",
        "    m=add_averages2(i)\n",
        "    colors = ['blue','green','deeppink']\n",
        "    m[['Prices','MA','EMA_0.1']].plot(color=colors, linewidth=3, figsize=(15,6))\n",
        "# modify ticks size\n",
        "    plt.xticks(fontsize=20)\n",
        "    plt.yticks(fontsize=20)\n",
        "    plt.legend(labels =['Price'], fontsize=14)    \n",
        "    plt.title(str(i)+' WITH MOVING AVERAGE', fontsize=20)    \n",
        "    plt.xlabel('time', fontsize=16)    \n",
        "    plt.ylabel('prices', fontsize=16)"
      ],
      "metadata": {
        "id": "r3jUgKcJCumW"
      },
      "execution_count": null,
      "outputs": []
    }
  ]
}